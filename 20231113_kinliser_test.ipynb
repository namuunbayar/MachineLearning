{
  "nbformat": 4,
  "nbformat_minor": 0,
  "metadata": {
    "colab": {
      "provenance": [],
      "include_colab_link": true
    },
    "kernelspec": {
      "name": "python3",
      "display_name": "Python 3"
    },
    "language_info": {
      "name": "python"
    }
  },
  "cells": [
    {
      "cell_type": "markdown",
      "metadata": {
        "id": "view-in-github",
        "colab_type": "text"
      },
      "source": [
        "<a href=\"https://colab.research.google.com/github/namuunbayar/MachineLearning/blob/main/20231113_kinliser_test.ipynb\" target=\"_parent\"><img src=\"https://colab.research.google.com/assets/colab-badge.svg\" alt=\"Open In Colab\"/></a>"
      ]
    },
    {
      "cell_type": "markdown",
      "source": [
        "### Google drive mount\n",
        "\n"
      ],
      "metadata": {
        "id": "dcN075PgiGXT"
      }
    },
    {
      "cell_type": "markdown",
      "source": [
        "先にGoogle Driveで「共有アイテム」 -> 「kiliser」を選択して右クリック後「ドライブにショートカットに追加」を実行。\n",
        "こうすることで、共有アイテムもマウントできるようになる。"
      ],
      "metadata": {
        "id": "-0J5EI2Kh_Mi"
      }
    },
    {
      "cell_type": "code",
      "execution_count": null,
      "metadata": {
        "id": "hkNgJBUJeqt1",
        "colab": {
          "base_uri": "https://localhost:8080/"
        },
        "outputId": "bcb763e6-9bde-4ec8-fbb8-24621634c970"
      },
      "outputs": [
        {
          "output_type": "stream",
          "name": "stdout",
          "text": [
            "Mounted at /content/drive\n"
          ]
        }
      ],
      "source": [
        "from google.colab import drive\n",
        "import os\n",
        "drive.mount('/content/drive')"
      ]
    },
    {
      "cell_type": "code",
      "source": [
        "%cd /content/drive/MyDrive/kinliser"
      ],
      "metadata": {
        "id": "wh4Kwitgh_BZ",
        "colab": {
          "base_uri": "https://localhost:8080/"
        },
        "outputId": "862c024a-65c4-4267-b67e-c2a22f164999"
      },
      "execution_count": null,
      "outputs": [
        {
          "output_type": "stream",
          "name": "stdout",
          "text": [
            "/content/drive/MyDrive/otas_baito/kinliser\n"
          ]
        }
      ]
    },
    {
      "cell_type": "code",
      "source": [
        "%ls"
      ],
      "metadata": {
        "colab": {
          "base_uri": "https://localhost:8080/"
        },
        "id": "vUkBvkKiizm-",
        "outputId": "60c5d6ac-c8bb-4b41-d9bf-ab3bc3187773"
      },
      "execution_count": null,
      "outputs": [
        {
          "output_type": "stream",
          "name": "stdout",
          "text": [
            "20231113_kinliser_test.ipynb            \u001b[0m\u001b[01;34mnoritz\u001b[0m/           \u001b[01;34mosaka_gas\u001b[0m/  \u001b[01;34mtokyo_gas\u001b[0m/\n",
            "gas-meter-ocr-356007-981ec8805f98.json  \u001b[01;34mnot_categorized\u001b[0m/  \u001b[01;34mother\u001b[0m/      yolov8_meter.ipynb\n",
            "\u001b[01;34mjson_response\u001b[0m/                          ocr_test.ipynb    \u001b[01;34mrinnai\u001b[0m/\n"
          ]
        }
      ]
    },
    {
      "cell_type": "code",
      "source": [
        "!pip install -q google-cloud-vision"
      ],
      "metadata": {
        "id": "1EngPa_Ao1fB",
        "colab": {
          "base_uri": "https://localhost:8080/"
        },
        "outputId": "2d9522f5-31c5-41f2-a065-e6505e3e4116"
      },
      "execution_count": null,
      "outputs": [
        {
          "output_type": "stream",
          "name": "stdout",
          "text": [
            "\u001b[?25l     \u001b[90m━━━━━━━━━━━━━━━━━━━━━━━━━━━━━━━━━━━━━━━━\u001b[0m \u001b[32m0.0/444.1 kB\u001b[0m \u001b[31m?\u001b[0m eta \u001b[36m-:--:--\u001b[0m\r\u001b[2K     \u001b[91m━━━\u001b[0m\u001b[91m╸\u001b[0m\u001b[90m━━━━━━━━━━━━━━━━━━━━━━━━━━━━━━━━━━━━\u001b[0m \u001b[32m41.0/444.1 kB\u001b[0m \u001b[31m1.1 MB/s\u001b[0m eta \u001b[36m0:00:01\u001b[0m\r\u001b[2K     \u001b[91m━━━━━━━━━━━━━━━━━━━━━━━━━━━━━━━\u001b[0m\u001b[90m╺\u001b[0m\u001b[90m━━━━━━━━\u001b[0m \u001b[32m348.2/444.1 kB\u001b[0m \u001b[31m5.3 MB/s\u001b[0m eta \u001b[36m0:00:01\u001b[0m\r\u001b[2K     \u001b[90m━━━━━━━━━━━━━━━━━━━━━━━━━━━━━━━━━━━━━━━━\u001b[0m \u001b[32m444.1/444.1 kB\u001b[0m \u001b[31m5.3 MB/s\u001b[0m eta \u001b[36m0:00:00\u001b[0m\n",
            "\u001b[?25h"
          ]
        }
      ]
    },
    {
      "cell_type": "code",
      "source": [
        "# responseをjsonで保存\n",
        "import json\n",
        "def save_as_json(response, filename):\n",
        "    data = AnnotateImageResponse.to_json(response)\n",
        "    with open(filename, mode='wt', encoding='utf-8') as file:\n",
        "        json.dump(data, file, ensure_ascii=False, indent=2)\n",
        "\n",
        "# jsonをAnnotateImageResponse形式で読み出し\n",
        "def load_from_json(filename):\n",
        "    with open(filename, mode='r', encoding='utf-8') as file:\n",
        "        temp = json.load(file)\n",
        "    response = AnnotateImageResponse.from_json(temp)\n",
        "    return response"
      ],
      "metadata": {
        "id": "ywlcl9jGmd34"
      },
      "execution_count": 85,
      "outputs": []
    },
    {
      "cell_type": "code",
      "source": [
        "os.environ['GOOGLE_APPLICATION_CREDENTIALS'] =\"./gas-meter-ocr-356007-981ec8805f98.json\""
      ],
      "metadata": {
        "id": "1cZo2WOMmlYJ"
      },
      "execution_count": null,
      "outputs": []
    },
    {
      "cell_type": "code",
      "source": [
        "from google.cloud import vision\n",
        "from google.cloud.vision import AnnotateImageResponse\n",
        "import json\n",
        "import io\n",
        "\n",
        "#Vision APIを呼び出しjsonで保存\n",
        "def get_resp(file_path, output_dir = 'json_response/', hint='ja'):\n",
        "    # Instantiates a client\n",
        "    client = vision.ImageAnnotatorClient()\n",
        "\n",
        "    # The name of the image file to annotate\n",
        "    file_name = os.path.abspath(file_path)\n",
        "\n",
        "    # Loads the image into memory\n",
        "    with io.open(file_name, 'rb') as image_file:\n",
        "        content = image_file.read()\n",
        "\n",
        "    image = vision.Image(content=content)\n",
        "\n",
        "    # Performs label detection on the image file\n",
        "    response =  client.document_text_detection(\n",
        "            image=image,\n",
        "            image_context={'language_hints': [hint]}\n",
        "        )\n",
        "\n",
        "    resp_file = output_dir\n",
        "    basename = os.path.splitext(os.path.basename(file_path))[0]\n",
        "    resp_file = resp_file + basename + '.json'\n",
        "\n",
        "    save_as_json(response, resp_file)\n",
        "\n",
        "    return response"
      ],
      "metadata": {
        "id": "iTdw3uTCmxBp"
      },
      "execution_count": 84,
      "outputs": []
    },
    {
      "cell_type": "code",
      "source": [
        "import pathlib\n",
        "\n",
        "input_dir = 'not_categorized'\n",
        "image_list = list(pathlib.Path(input_dir).glob('**/*.jpg'))"
      ],
      "metadata": {
        "id": "BYeoZajqvVgZ"
      },
      "execution_count": 55,
      "outputs": []
    },
    {
      "cell_type": "code",
      "source": [
        "image_list[0]"
      ],
      "metadata": {
        "colab": {
          "base_uri": "https://localhost:8080/"
        },
        "id": "TtLz_FuiW3GV",
        "outputId": "1db2ca7a-e0a9-4501-9e96-62ba90b2b6e8"
      },
      "execution_count": null,
      "outputs": [
        {
          "output_type": "execute_result",
          "data": {
            "text/plain": [
              "PosixPath('not_categorized/202309128590_1 (1).jpg')"
            ]
          },
          "metadata": {},
          "execution_count": 22
        }
      ]
    },
    {
      "cell_type": "code",
      "source": [
        "# 実行済みのため、変更・実行する必要なし\n",
        "# for image_path in image_list:\n",
        "#     get_resp(image_path)"
      ],
      "metadata": {
        "id": "3a52CgeLwbO1"
      },
      "execution_count": null,
      "outputs": []
    },
    {
      "cell_type": "markdown",
      "source": [],
      "metadata": {
        "id": "8Q2jLYkWtL8H"
      }
    },
    {
      "cell_type": "code",
      "source": [
        "json_dir = 'json_response'\n",
        "json_list = list(pathlib.Path(json_dir).glob('**/*.json'))"
      ],
      "metadata": {
        "id": "5quSnyHGv4R8"
      },
      "execution_count": 56,
      "outputs": []
    },
    {
      "cell_type": "code",
      "source": [
        "json_list[0]\n"
      ],
      "metadata": {
        "colab": {
          "base_uri": "https://localhost:8080/"
        },
        "id": "8nHVL2EXqC1D",
        "outputId": "364b313e-0d09-42c9-aaf0-0154396b6081"
      },
      "execution_count": 59,
      "outputs": [
        {
          "output_type": "execute_result",
          "data": {
            "text/plain": [
              "PosixPath('json_response/202309128590_1.json')"
            ]
          },
          "metadata": {},
          "execution_count": 59
        }
      ]
    },
    {
      "cell_type": "code",
      "source": [
        "  response = load_from_json(json_list[0])\n",
        "  print(response.text_annotations[0].description)"
      ],
      "metadata": {
        "id": "LWCAAlErwSIU",
        "colab": {
          "base_uri": "https://localhost:8080/"
        },
        "outputId": "e1dfa0b3-5eea-4621-98e8-b8101518dfa5"
      },
      "execution_count": 71,
      "outputs": [
        {
          "output_type": "stream",
          "name": "stdout",
          "text": [
            "Ø\n",
            "禁止\n",
            "換気注意\n",
            "(屋内式FEのみ)\n",
            "使用中は換気に十分注意する。 但\n",
            "レンジフード 換気扇を回さな\n",
            "い。 一酸化炭素中毒の恐れあり。\n",
            "波板囲い禁止\n",
            "I 波板などで囲まない。\n",
            "一酸化炭素中毒や火災の恐れあり。\n",
            "屋外式ガス機器本体\n",
            "または屋内式ガス機器\n",
            "禁止 (給排気筒トップ\n",
            "波板囲い\n",
            "型式 GQ-1628WS-TB\n",
            "設置の方式 屋外式\n",
            "都市ガス用\n",
            "定格電圧\n",
            "定格周波数\n",
            "定格消費電力\n",
            "(88)\n",
            "JIA 18 LE\n",
            "13A\n",
            "12A\n",
            "33.4kW 31.1kW\n",
            "AC100V\n",
            "50/60Hz\n",
            "40/40W\n",
            "07.06 - 054358\n",
            "株式会社ノーリツ\n",
            "凍結予防ヒーター\n",
            "125W\n",
            "認証登録番号 OW1004\n",
            "水道法基準適合\n",
            "PS B\n",
            "TG\n",
            "スターリビング・\n",
            "ZF12 03488\n",
            "●遠隔操作の場合は取扱説明書に記載されているリモコン\n",
            "をご使用ください。\n",
            "●リモコンを接続した場合はリモコンの表示に従って操作\n",
            "し着火・消火をリモコンの表示により確認してください。\n",
            "●機器内に長時間たまっていた水は、飲用または調理に用\n",
            "いないでください。\n",
            "点検と手入\n",
            "ときどき取扱説明書に記載してある要領で、\n",
            "れを行ってください。\n",
            "●冬期、冷え込みが厳しく凍結の恐れがあるときは、取扱\n",
            "説明書に記載してある方法で凍結予防をしてください。\n",
            "これを怠りますと、 凍結して機器が破損する場合があり\n",
            "ます。\n",
            "●機器を移設される場合は、移転先のガス事業者、 販売店\n",
            "または取扱説明書記載の窓口までご連絡ください。\n",
            "●異常時(排気口から煙が出る、 こげ臭など) や緊急時\n",
            "(地震・火災など) は使用をやめ、 販売店または取扱説\n",
            "明書記載の窓口までご連絡ください。\n",
            "DNSK005 ②\n",
            "~ [設置上の注意]\n",
            "・屋内に絶対に設置しないでください。\n",
            "区分名 D\n",
            "エネルギー消費効率 82.5%\n",
            "株式会社ノーリツ\n"
          ]
        }
      ]
    },
    {
      "cell_type": "code",
      "source": [
        "import re\n",
        "\n",
        "# テキストからGQ-1628WS-TBのような形式の文字列を抽出する正規表現パターン\n",
        "pattern = r'\\b[A-Z]+-?\\d+[A-Z]*-?\\w+\\b'\n",
        "j=0\n",
        "for jsan in json_list:\n",
        "  response = load_from_json(jsan)\n",
        "  # テスト用の文字列\n",
        "  text = response.text_annotations[0].description\n",
        "\n",
        "\n",
        "\n",
        "# 正規表現にマッチする部分を抽出\n",
        "  match = re.search(pattern, text)\n",
        "\n",
        "# 抽出した文字列を表示\n",
        "  if match:\n",
        "      extracted_string = match.group()\n",
        "      print(f\"{jsan}: {extracted_string}\")\n",
        "      j += 1\n",
        "  else:\n",
        "      print(f\"{jsan}:該当する文字列は見つかりませんでした。\")\n",
        "print(j/len(json_list))"
      ],
      "metadata": {
        "colab": {
          "base_uri": "https://localhost:8080/"
        },
        "id": "WjfS5GlQsfiY",
        "outputId": "eea5ab8f-62e2-47d3-bbf2-00c6e629185c"
      },
      "execution_count": 89,
      "outputs": [
        {
          "output_type": "stream",
          "name": "stdout",
          "text": [
            "json_response/202309128590_1.json: GQ-1628WS-TB\n",
            "json_response/202309138595_1.json: FT4204ARSSW3Q\n",
            "json_response/202309138594_1.json: GT-2450AWX\n",
            "json_response/202309128593_1.json: FT4207ARS2AW3CU\n",
            "json_response/202309128591_1.json: GS-2000W-1\n",
            "json_response/202309128592_1.json: GFK-1616A\n",
            "json_response/202309138603_1.json: A2000AW\n",
            "json_response/202309138600_1.json: AD-2899AFQ\n",
            "json_response/202309138596_1.json: N076A\n",
            "json_response/202309138605_1.json: A2000SAW-E\n",
            "json_response/202309138601_1.json: FH-20AWD\n",
            "json_response/202309138602_1.json: AT-366RSA-AW2Q\n",
            "json_response/202309138599_1.json: U217-941X01\n",
            "json_response/202309138604_1.json: YG2432RT\n",
            "json_response/202309138598_1.json: V2405SAT\n",
            "json_response/202309148606_1.json: GRO-1628SAX-1\n",
            "json_response/202309148610_1.json: E6771\n",
            "json_response/202309148611_1.json: RUX-1600UPSOTL\n",
            "json_response/202309148607_1.json: V2401AW\n",
            "json_response/202309148608_1.json: EZMK005\n",
            "json_response/202309178663_1.json: N436A\n",
            "json_response/202309178664_1.json:該当する文字列は見つかりませんでした。\n",
            "json_response/202309178666_1.json: GTH-2427SAWXD\n",
            "json_response/202309178665_1.json: FT4202ARS4AW6CU\n",
            "json_response/202309188670_1.json: C2052SAWX\n",
            "json_response/202309188669_1.json: AT-4200ARSSW\n",
            "json_response/202309188668_1.json: N470\n",
            "json_response/202309188667_1.json: GQ-1628AWX-T\n",
            "json_response/202309188672_1.json: FT4205ARS4AW3CU\n",
            "json_response/202309188676_1.json: N072A\n",
            "json_response/202309188673_1.json: GT-2050SAWX\n",
            "json_response/202309188674_1.json: V2403SAW2\n",
            "json_response/202309188671_1.json: U217-94\n",
            "json_response/202309188677_1.json: AD-2899ARQ\n",
            "json_response/202309188683_1.json: GQ-1612WE\n",
            "json_response/202309188681_0.json: GT-1650SAWX\n",
            "json_response/202309188680_1.json: T-208SAW\n",
            "json_response/202309188682_1.json: A2400SAW\n",
            "json_response/202309188684_1.json: N212\n",
            "json_response/202309188678_1.json: V2400AW2\n",
            "json_response/202309198688_1.json: V2001SAW\n",
            "json_response/202309188685_1.json: FT-4201-ARS4AW60\n",
            "json_response/202309198686_1.json: HOL-870SA\n",
            "json_response/202309198687_1.json: GQ-1628AWX-T\n",
            "json_response/202309208699_1.json: GQ-1628AWX-T\n",
            "json_response/202309208698_1.json: C2031SAWX\n",
            "json_response/202309218705_1.json: GTS-83\n",
            "json_response/202309218708_1.json: U217-941X01\n",
            "json_response/202309208702_1.json: GT-24275ANX\n",
            "json_response/202309208700_1.json: T200\n",
            "json_response/202309218706_1.json: E2402SAW2\n",
            "json_response/202309218707_1.json: GT-2427SAWX\n",
            "json_response/202309208701_1.json: OTSGV1-1\n",
            "json_response/202309208703_1.json: FT4204ARS2SW3QU\n",
            "json_response/202309208704_1.json: FT4204ARS9SW3Q\n",
            "json_response/202309228715_1.json: C2439SAWXPD-FF\n",
            "json_response/202309228716_1.json: KP2403AU2\n",
            "json_response/202309228714_1.json: N260\n",
            "json_response/202309218709_1.json: K2401AA\n",
            "json_response/202309218712_1.json: SK2400SAW2\n",
            "json_response/202309218713_1.json: FT4207ARS9AW3CU\n",
            "json_response/202309218711_1.json: P1075\n",
            "json_response/202309228722_1.json: RUX-16PS\n",
            "json_response/202309228720_1.json: V1613FF2\n",
            "json_response/202309228718_1.json: GQ-1600W\n",
            "json_response/202309228721_1.json: GRQ-2017AX-1\n",
            "json_response/202309228719_1.json:該当する文字列は見つかりませんでした。\n",
            "json_response/202309228717_1.json: GT-2428SAWX\n",
            "json_response/202309238740_1.json: GX-240ZR\n",
            "json_response/202309238735_1.json: GT-2428SAWX\n",
            "json_response/202309238736_1.json: KG-516FESB-Q\n",
            "json_response/202309238738_1.json: A2400SAW\n",
            "json_response/202309238739_1.json: XT4205LRSAW3C\n",
            "json_response/202309238737_1.json:該当する文字列は見つかりませんでした。\n",
            "json_response/202309248749_1.json: V2403SAT2\n",
            "json_response/202309238743_1.json: K2402AT2\n",
            "json_response/202309248746_1.json: FT4205ARS4AW3CU\n",
            "json_response/202309238742_1.json: AT-4299ARSAW3Q\n",
            "json_response/202309248748_1.json: T-207SAW\n",
            "json_response/202309238741_1.json: FT4204ARS9SW3QU\n",
            "json_response/202309238744_1.json: GT-2028\n",
            "json_response/202309248753_1.json: E2400AW\n",
            "json_response/202309248752_1.json: FH-201AWD\n",
            "json_response/202309248751_1.json: FH-201AWD\n",
            "json_response/202309248756_1.json: FH-241AWD\n",
            "json_response/202309248755_1.json: GT-1627AWX-C\n",
            "json_response/202309248754_1.json: GT-2038SAWX-FF\n",
            "json_response/202309248750_1.json: GT-2028AWX\n",
            "json_response/202309248760_1.json: U217-941X01\n",
            "json_response/202309248757_1.json: FH-242AWD\n",
            "json_response/202309248758_1.json: V1610W\n",
            "json_response/202309248759_1.json:該当する文字列は見つかりませんでした。\n",
            "json_response/202309288835_1.json: OTSJL5-2\n",
            "json_response/202309288837_1.json: AD-368RA-Q\n",
            "json_response/202309288840_1.json: V2005SAW\n",
            "json_response/202309288836_1.json: FT4202ARSAW6CUO\n",
            "json_response/202309288839_1.json: V2400AT2\n",
            "json_response/202309288842_0.json: GT-2428SAWX\n",
            "json_response/202309288841_1.json: AD-200FFA\n",
            "json_response/202309288843_1.json: FH-20ADML3\n",
            "json_response/202309288844_1.json: V2001SA\n",
            "json_response/202309288845_1.json: GT-2028SARX\n",
            "json_response/202309288847_1.json: GQ-168WS\n",
            "json_response/202309288846_1.json: V1615SAW\n",
            "json_response/202309298851_1.json: V2400AT-1\n",
            "json_response/202309298852_1.json: C2452AWX\n",
            "json_response/202309288848_1.json: FH-244AWD\n",
            "json_response/202309298850_1.json: FT-368RSA-AW6Q\n",
            "json_response/202309288849_1.json: GT-2028SAWX\n",
            "json_response/202309298856_1.json: AT-4200ARSSW6Q\n",
            "json_response/202309298853_1.json: K2401SAW\n",
            "json_response/202309298855_1.json: A816RFTE-RA1\n",
            "json_response/202309298854_1.json: V2016G-E\n",
            "json_response/202309298858_1.json: R107SB2\n",
            "json_response/202309298860_1.json: V1615T-S\n",
            "json_response/202309298857_1.json: GQ-1601WMSG-T\n",
            "json_response/202309308869_1 (1).json: S13BO1\n",
            "json_response/202309308869_1.json: S13BO1\n",
            "json_response/202309308870_1.json: FT4204ARS9SW3QU\n",
            "json_response/202309308875_1 (1).json: GT-2023SAW\n",
            "json_response/202309308874_1.json: XT4209LRSAW3C\n",
            "json_response/202309308871_1 (1).json: GT-2428SAWX\n",
            "json_response/202309308872_1.json: SK2400AW2\n",
            "json_response/202309308875_1.json: GT-2023SAW\n",
            "json_response/202309308871_1.json: GT-2428SAWX\n",
            "json_response/202309308873_1.json: FT4204ARS4AW3QU\n",
            "json_response/202309308877_1 (1).json: GQ-1626AWX-60T\n",
            "json_response/202309308876_1 (1).json: GTH-2427AWX3H\n",
            "json_response/202309308879_1 (1).json: SK005\n",
            "json_response/202309308877_1.json: GQ-1626AWX-60T\n",
            "json_response/202309308878_1.json: KG-516FFSA-QB\n",
            "json_response/202309308876_1.json: GTH-2427AWX3H\n",
            "json_response/202309308879_1.json: SK005\n",
            "json_response/202309308882_1 (1).json: FH-162ZAW3\n",
            "json_response/202309308882_1.json: FH-162ZAW3\n",
            "json_response/202309308880_1 (1).json: VS1610T\n",
            "json_response/202309308881_1.json: C2432SAWX\n",
            "json_response/202309308880_1.json: VS1610T\n",
            "json_response/202309308885_1.json: NO52A\n",
            "json_response/202309308886_1 (1).json: V2400SAW2\n",
            "json_response/202309308883_1 (1).json: FT-4205ARS-SW3C\n",
            "json_response/202309308883_1.json: FT-4205ARS-SW3C\n",
            "json_response/202309308887_1.json: GO-1300WA\n",
            "json_response/202309308886_1.json: V2400SAW2\n",
            "json_response/202309308888_1 (1).json: FT4205ARS2AW3CU\n",
            "json_response/202309308889_1.json: PH-16CWT\n",
            "json_response/202309308894_1 (1).json: GT-2003SAW\n",
            "json_response/202309308888_1.json: FT4205ARS2AW3CU\n",
            "json_response/202309308890_1.json: FT4202ARSAW6CU\n",
            "json_response/202309308892_1 (1).json: T200\n",
            "json_response/202309308894_1.json: GT-2003SAW\n",
            "json_response/202309308893_1.json: PH-163EWH3\n",
            "json_response/202309308892_1.json: T200\n",
            "json_response/202310018905_1.json: V2401SAG\n",
            "json_response/202310018904_1.json: GT-2427SAWX\n",
            "json_response/202310018907_1.json: GT-2428SAWX\n",
            "json_response/202310018906_0.json: V1610SWFA-E\n",
            "json_response/202310018906_1.json: AU191-804\n",
            "json_response/202310018908_1.json: GQ-1623WD-F\n",
            "json_response/202310018909_1.json: M015B\n",
            "json_response/202310028911_1.json: FT4211ARSSW6C\n",
            "json_response/202310018910_1.json: N074A\n",
            "json_response/202310028912_1.json: PS16TX-TN\n",
            "json_response/202310028916_1.json: V1613FF\n",
            "json_response/202310028915_1.json:該当する文字列は見つかりませんでした。\n",
            "json_response/202310028914_1.json: FT-368RSA8\n",
            "json_response/202310028913_1.json: A2003SAT\n",
            "json_response/202310028918_1.json: V2401SAW\n",
            "json_response/202310028917_1.json: E2401SAW2\n",
            "json_response/202310028923_1.json: H812\n",
            "json_response/202310028921_1.json: SP207SZT-2R\n",
            "json_response/202310028920_1.json: AT-4200ARSAW\n",
            "json_response/202310028919_1.json: GT-2450SAWX-T\n",
            "json_response/202310028924_1.json: GQ-1628WS\n",
            "json_response/202310038926_1.json: AT-366RSA-AW20\n",
            "json_response/202310028925_1.json: V2000SAT-1\n",
            "json_response/202310038927_1.json: AT-4200ARSAW\n",
            "json_response/202310038937_1.json: AT-4299ARSSW3Q\n",
            "json_response/202310038939_1.json: GT-2028SAWX-H\n",
            "json_response/202310038938_1.json: T500A\n",
            "json_response/202310038943_1.json: U217-941X01\n",
            "json_response/202310038942_1.json: FT4210CRS4SW3CM\n",
            "json_response/202310038944_1.json: S820RFWA-RA\n",
            "json_response/202310038941_1.json: FT-368RSA4\n",
            "json_response/202310038940_1.json: GT-2027SAWX\n",
            "json_response/202310038947_1.json: K2400AW2\n",
            "json_response/202310048950_1.json: K2400AT2\n",
            "json_response/202310038945_1.json: U217-941X01\n",
            "json_response/202310038946_1.json: GQ-2413AW-TB\n",
            "json_response/202310048948_1.json: V2403SAU2\n",
            "json_response/202310048949_1.json: GT-2050SAWX\n",
            "json_response/202310048952_1.json: V2400AW2\n",
            "json_response/202310048953_1.json: RH-500\n",
            "json_response/202310048951_1.json: GT-2427SAWX\n",
            "json_response/202310048954_1.json: FT4204ARS2AW3QU\n",
            "json_response/202310048960_1.json: GT-2027AWX\n",
            "json_response/202310048958_1.json: GT-2027SAWX\n",
            "json_response/202310048955_1.json: GT-2427SAWX\n",
            "json_response/202310048957_1.json: OURB-2051SAQ\n",
            "json_response/202310048959_1.json: V2400AU2\n",
            "json_response/202310048956_1.json: GQ-1628WA\n",
            "json_response/202310058971_1.json: ARGE20KS2\n",
            "json_response/202310058972_1.json: GTH-2435SAWX3H\n",
            "json_response/202310058970_1.json: OURB-2450SAQ-T\n",
            "json_response/202310058974_1.json: V2405SAW\n",
            "json_response/202310058976_1.json: U217-941X01\n",
            "json_response/202310058973_1.json: N080A\n",
            "json_response/202310058982_1.json: AC100V\n",
            "json_response/202310058979_1.json: GRQ-1636SAX-F\n",
            "json_response/202310058980_1.json: V2401SAFF\n",
            "json_response/202310058978_1.json: GT-2027SAWX\n",
            "json_response/202310058983_1.json: NO72A\n",
            "json_response/202310068984_1.json: C0120-47\n",
            "json_response/202310068986_1.json: OTSJB1-1\n",
            "json_response/202310068991_1.json: GX-160ZT-1\n",
            "json_response/202310068990_1.json: K2402AW2\n",
            "json_response/202310068994_1.json: V2005SAW\n",
            "json_response/202310068993_1.json: UR-1630FES\n",
            "json_response/202310068997_1.json: GO-3210WZQ-FF\n",
            "json_response/202310068996_1.json: RGE24KS50\n",
            "json_response/202310068995_1.json: GT-2450SAWX\n",
            "json_response/202310069000_1.json: FT-368RSA2\n",
            "json_response/202310068998_1.json: GT-1601SAWX\n",
            "json_response/202310069001_1.json: GT-1627SAWX\n",
            "json_response/202310068999_1.json: C050\n",
            "json_response/202310079014_1.json: GQ-1637WS-FFA\n",
            "json_response/202310079018_1.json: K2400AA2\n",
            "json_response/202310079017_1.json: YV2460R\n",
            "json_response/202310079019_1.json: GWE-16Y4\n",
            "json_response/202310079015_1.json: A2400SAN\n",
            "json_response/202310079013_1.json: K2400SAW2\n",
            "json_response/202310079021_1.json: GT-2050SAWX\n",
            "json_response/202310079026_1.json: V1611SWFA\n",
            "json_response/202310079022_1.json: FH-162AWD3\n",
            "json_response/202310079023_1.json: FT4207ARS2AW3CU\n",
            "json_response/202310079027_1.json: N800\n",
            "json_response/202310079024_1.json: FT-368RSA-AW6Q\n",
            "json_response/202310079020_1.json: FT4205ARS4AW3CU\n",
            "json_response/202310079033_1.json: GT-2428\n",
            "json_response/202310079028_1.json: GT-2-22SAWX\n",
            "json_response/202310079030_1.json:該当する文字列は見つかりませんでした。\n",
            "json_response/202310079031_1.json: GT-2027SAWX-T\n",
            "json_response/202310079032_1.json: E2003SA\n",
            "json_response/202310079029_1.json: N530\n",
            "json_response/202310079036_1.json: HT-4203AKS\n",
            "json_response/202310079034_1.json: E2401SAW\n",
            "json_response/202310079038_1.json: RUF-2008SAW\n",
            "json_response/202310079035_1.json: IT-4201ARS9\n",
            "json_response/202310079037_1.json: BD-4202ARS8JWQ\n",
            "json_response/202310089050_1.json: FT4205ARS9AW3CU\n",
            "json_response/202310089047_1.json: A2400SAG\n",
            "json_response/202310089051_1.json: GT-1650SAWX\n",
            "json_response/202310089048_1.json: GT-2428SAWX-T\n",
            "json_response/202310089057_1.json: GT-2427SAWX-H\n",
            "json_response/202310089052_1.json: V2400AU-1\n",
            "json_response/202310089053_1.json: XT4205LRSAW3C\n",
            "json_response/202310089054_1.json: VD2400AW2\n",
            "json_response/202310089055_1.json: HT-4203ARS-SW6Q\n",
            "json_response/202310089056_1.json: C2032SAWX\n",
            "json_response/202310089061_1.json: GT-2427SAWX\n",
            "json_response/202310089059_1.json: FT4204ARS4SW3QU\n",
            "json_response/202310089062_1.json: GTH-1611AWXD-T\n",
            "json_response/202310099067_1.json: HS-1204ARS-W6\n",
            "json_response/202310089063_1.json: GT-1650ARX\n",
            "json_response/202310089064_1.json: C2432SAWX\n",
            "json_response/202310099066_1.json: GRQ-2427SAX\n",
            "json_response/202310099070_1.json: NO72A\n",
            "json_response/202310099071_1.json: DNSK005\n",
            "json_response/202310099068_1.json: FT4204ARS9SW3QU\n",
            "json_response/202310099069_1.json: GT-2027SAWX\n",
            "json_response/202310099077_1.json: V2400SAT2\n",
            "json_response/202310099076_1.json: GT-2028SAWX\n",
            "json_response/202310099074_1.json: V2403SAU2\n",
            "json_response/202310099093_1.json: K2400AT2\n",
            "json_response/202310099094_1.json: GQ-2039WS-1\n",
            "json_response/202310099095_1.json: U217-941X01\n",
            "json_response/202310099091_1.json: GT-2438AWX-FF\n",
            "json_response/202310099092_1.json: V2403SAW2\n",
            "json_response/202310099098_1.json: K2400AT2\n",
            "json_response/202310099096_1.json: A2400SAWA\n",
            "json_response/202310099097_1.json: VS1615SAW\n",
            "json_response/202310109115_1.json: V2403SAW2\n",
            "json_response/202310109121_1.json: V1615SAW\n",
            "json_response/202310109119_1.json: GH-712W3H\n",
            "json_response/202310109118_1.json: HT4206ARS4SW6P\n",
            "json_response/202310109120_1.json: A2003SAG\n",
            "json_response/202310109116_1.json: GT-2022SAWX\n",
            "json_response/202310109117_1.json: V1610W\n",
            "json_response/202310109124_1.json: OW1004\n",
            "json_response/202310109123_1.json: GQ-2023WA\n",
            "json_response/202310109122_1.json: GQ-2417RXA\n",
            "json_response/202310109125_1.json: NR-516GFF-Q\n",
            "json_response/202310109128_1.json: GT-1634SAWS-FFB\n",
            "json_response/202310109126_1.json: GT-2028AWX\n",
            "json_response/202310109129_1.json: C2052SAWX\n",
            "json_response/202310109130_1.json: AC100V\n",
            "json_response/202310109131_1.json: GT-1628AWX\n",
            "json_response/202310109135_1.json: OTSJL5-2\n",
            "json_response/202310109136_3.json: H754\n",
            "json_response/202310109134_1.json: A0100V\n",
            "json_response/202310109132_1.json: GT-2428SAWX\n",
            "json_response/202310109133_1.json: GT-2450SAWX\n",
            "json_response/202310119142_1.json: GT-1628SAWX\n",
            "json_response/202310119138_1.json: VD2400SAU2\n",
            "json_response/202310119143_1.json: N060A\n",
            "json_response/202310119137_1.json: YG2431RM\n",
            "json_response/202310119141_1.json: HT2308AFSAW3Q\n",
            "json_response/202310119139_1.json: GT-2027SAWX\n",
            "json_response/202310119145_1.json: XT-4701BRS-AWQ\n",
            "json_response/202310119146_1.json: HT3507KRSSQ\n",
            "json_response/202310119144_1.json: YV1659R\n",
            "json_response/202310119150_1.json: GT-1628AWX\n",
            "json_response/202310119149_1.json: E2400AW\n",
            "json_response/202310119157_1.json: N480\n",
            "json_response/202310119156_1.json: RUF-2408SAW\n",
            "json_response/202310119153_1.json: GT-2428SAWX\n",
            "json_response/202310119152_1.json: A1610SA\n",
            "json_response/202310119154_1.json: GT-2428SAWX\n",
            "json_response/202310119155_1.json: GX-240AR\n",
            "json_response/202310119158_1.json: FT4207ARS4AW3CU\n",
            "json_response/202310119162_1.json: A-68516\n",
            "json_response/202310119160_1.json: ZH09\n",
            "json_response/202310119163_1.json: ROSENTI9490\n",
            "json_response/202310119159_1.json: C2431AWX\n",
            "json_response/202310119165_1.json: T712\n",
            "json_response/202310119161_1.json: V2001SAW\n",
            "json_response/202310119166_1.json: RUJ-1610PST\n",
            "json_response/202310129172_1.json: AC100V\n",
            "json_response/202310129167_1.json: FT4208ARS4SW3Q\n",
            "json_response/202310129168_1.json: GT-2428SAWX\n",
            "json_response/202310129169_1.json: FT4207ARSAW6CU\n",
            "json_response/202310129174_1.json: N052A\n",
            "json_response/202310129175_1.json: E2402SAW2\n",
            "json_response/202310129176_1.json: FT4204ARS4AW3Q\n",
            "json_response/202310129177_1.json: K2402AW2\n",
            "json_response/202310129179_1.json: GT-2412SAWX\n",
            "json_response/202310129178_1.json: GTH-2417AWX3H\n",
            "json_response/202310159241_1.json: N590\n",
            "json_response/202310159244_1.json: GT-2450SAWX\n",
            "json_response/202310159246_1.json: K2400AT2\n",
            "json_response/202310159243_1.json: NO80A\n",
            "json_response/202310159236_1.json: OTSKH4-1\n",
            "json_response/202310159245_1.json: GX-204AW-1\n",
            "json_response/202310159239_1.json: GTH-2444SAWX3H\n",
            "json_response/202310159247_1.json: GTH-2444NXH-T\n",
            "json_response/202310159254_1.json: E2403AW2\n",
            "json_response/202310159253_1.json: V2400AW2\n",
            "json_response/202310159248_1.json: GQ-2020AW-FFA\n",
            "json_response/202310159250_1.json:該当する文字列は見つかりませんでした。\n",
            "json_response/202310159251_1.json: C2452SAWX-2\n",
            "json_response/202310159249_1.json: RUF-2006SAB\n",
            "json_response/202310159257_1.json: GT-1627ARX\n",
            "json_response/202310159258_1.json: GT-2428AWX\n",
            "json_response/202310159255_0.json: YS2050R\n",
            "json_response/202310159259_1.json: GT-2450SAWX-T\n",
            "json_response/202310159260_1.json: V2403SAT2\n",
            "json_response/202310159256_1.json: GT-2428SAWX\n",
            "json_response/202310159261_1.json: RGH24KS3\n",
            "json_response/202310169263_1.json: Q21\n",
            "json_response/202310169264_1.json: RUJ-1610PST\n",
            "json_response/202310159262_1.json: GQ-2020AW-T\n",
            "json_response/202310179298_1.json: B3-1001\n",
            "json_response/202310179299_1.json: FT-368RSA4\n",
            "json_response/202310179300_1.json: GT-2428SAWX\n",
            "json_response/202310179301_1.json: FT4205ARS4AW3CU\n",
            "json_response/202310179304_1.json: GT-2428SAWX\n",
            "json_response/202310179303_1.json: GT-2028AWX\n",
            "json_response/202310179305_1.json: V2005SAW\n",
            "json_response/202310179308_1.json: AT-366RSA-AW20\n",
            "json_response/202310179309_1.json: S520RFWB\n",
            "json_response/202310179306_1.json: C2432SAWX\n",
            "json_response/202310179307_1.json: A824RFWA-RA\n",
            "json_response/202310189314_1.json: GT-2428SAWX\n",
            "json_response/202310179310_1.json: RES-2005SA\n",
            "json_response/202310189312_1.json: E678\n",
            "json_response/202310189315_1.json: GT-2028SAWX-TG\n",
            "json_response/202310179311_1.json: SE2403SAW2\n",
            "json_response/202310189316_1.json: A2000SAW\n",
            "json_response/202310189317_1.json: N312\n",
            "json_response/202310189318_1.json: XT4212KRSAWC\n",
            "json_response/202310189321_1.json: V2405SAW-IJ\n",
            "json_response/202310189323_1.json: GT-2428AWX\n",
            "json_response/202310189322_1.json: N050\n",
            "json_response/202310189320_1.json: GQ-1637WS\n",
            "json_response/202310189324_1.json: AT-4200ARSAW3Q\n",
            "json_response/202310219378_1.json: NA-0111ARS-K\n",
            "json_response/202310219381_1.json: FT4205ARS9AW6CU\n",
            "json_response/202310219383_1.json: XMWOON-10\n",
            "json_response/202310219385_1.json: A2003SA\n",
            "json_response/202310219382_1.json: HT-4203BRS-SW60\n",
            "json_response/202310219386_1.json: N446A\n",
            "json_response/202310219379_1.json: V2400AU2\n",
            "json_response/202310219384_1.json: V2403SAW2\n",
            "json_response/202310219394_1.json: IT4203ARSSW3CU\n",
            "json_response/202310219393_1.json: A2000SAW\n",
            "json_response/202310219391_1.json: GWE-16C4\n",
            "json_response/202310219387_1.json: GT-2428SAWX\n",
            "json_response/202310219390_1.json: FT4207ARS2AW3CU\n",
            "json_response/202310219392_1.json: GT-2450SAWX\n",
            "json_response/202310219389_1.json: V2013W\n",
            "json_response/202310219388_1.json: GT-2050SAWX\n",
            "json_response/202310229401_1.json: C2432SAWX\n",
            "json_response/202310219400_1.json: FT-4201ARS4SW6Q\n",
            "json_response/202310229403_1.json: N060A\n",
            "json_response/202310229405_1.json: V2001SAW\n",
            "json_response/202310219395_1.json: GT-2050SAWX-T\n",
            "json_response/202310219397_1.json: GT-2022SAWX\n",
            "json_response/202310219399_1.json: HT4206BRSSW3CM\n",
            "json_response/202310229411_1.json: GT-2027ARX\n",
            "json_response/202310229410_1.json: DNSK005\n",
            "json_response/202310229415_1.json: C2442SAWX-MB\n",
            "json_response/202310229407_1.json: GO-2027AWX-T\n",
            "json_response/202310229413_1.json: E2004SAW\n",
            "json_response/202310229409_1.json: FH-241AWD\n",
            "json_response/202310229408_1.json: GT-1650AWX\n",
            "json_response/202310229406_1.json: C2442SAWX-MB\n",
            "json_response/202310229419_1.json: FT4205ARS9AW3CU\n",
            "json_response/202310229420_1.json: A-5513\n",
            "json_response/202310229417_1.json: U217-941X01\n",
            "json_response/202310229421_1.json: OTSJL5-2\n",
            "json_response/202310229418_1.json: A2400SAW\n",
            "json_response/202310229422_1.json: N800\n",
            "json_response/202310229425_1.json: K2400AU2\n",
            "json_response/202310229427_1.json: A2000SAW\n",
            "json_response/202310229423_1.json: V2400SAB2\n",
            "json_response/202310229429_1.json: V2400SAW-1\n",
            "json_response/202310229426_1.json: U217-940\n",
            "json_response/202310229430_1.json: VS2400AW2\n",
            "json_response/202310229428_1.json: N040\n",
            "json_response/202310239437_1.json: GT-2428AWX\n",
            "json_response/202310229433_1.json: K2402AW2\n",
            "json_response/202310229432_1.json: TX109\n",
            "json_response/202310239434_1.json: GQ-2423WA\n",
            "json_response/202310229431_1.json: SK2401AW\n",
            "json_response/202310239436_1.json: AD-243RFA\n",
            "json_response/202310239435_1.json: GQ-1637WE\n",
            "json_response/202310239441_1.json: KG-516FFSA-QB\n",
            "json_response/202310239442_1.json: A524RFWA\n",
            "json_response/202310239440_1.json: TQ-405\n",
            "json_response/202310239439_1.json: OURB-2450SAQ-T\n",
            "json_response/202310239438_1.json: GQ-1623WA\n",
            "json_response/202310239443_1.json: SD245ZUH\n",
            "json_response/202310239449_1.json: A2400SAW\n",
            "json_response/202310239448_1.json: YS1650R\n",
            "json_response/202310239446_1.json: V2403AFF\n",
            "json_response/202310239447_1.json: FT4207ARS2SW3CU\n",
            "json_response/202310239451_1.json: XT-4200ARS4\n",
            "json_response/202310239445_1.json: SD245ATH\n",
            "json_response/202310239452_1.json: N040\n",
            "json_response/202310249456_1.json: N086A\n",
            "json_response/202310239453_1.json: K2401SAW\n",
            "json_response/202310249458_1.json: E2401SAW\n",
            "json_response/202310249455_1.json: FT4202ARS4AW6CU\n",
            "json_response/202310249457_1.json: K2401SAW\n",
            "json_response/202310249460_1.json: T-2450SAWX\n",
            "json_response/202310249466_1.json: WFK-1601SA\n",
            "json_response/202310249465_1.json: RUF-20000AG\n",
            "json_response/202310249462_1.json: DNSK005\n",
            "json_response/202310249461_1.json: N360\n",
            "json_response/202310249459_1.json: GT-2450SAWX\n",
            "json_response/202310249463_1.json: C2432SAWX\n",
            "json_response/202310249471_1.json:該当する文字列は見つかりませんでした。\n",
            "json_response/202310249467_1.json: DNSK005\n",
            "json_response/202310249477_1.json: V2403SA\n",
            "json_response/202310249474_1.json: RUFH-2405AW2\n",
            "json_response/202310249470_1.json: A816RFE\n",
            "json_response/202310249468_1.json: AT-4200ARSAW60\n",
            "json_response/202310249473_1.json: GT-1650SAWX\n",
            "json_response/202310249476_1.json: V2403SAU2\n",
            "json_response/202310249481_1.json: E204AWDL\n",
            "json_response/202310259482_1.json: GT-2450ARX\n",
            "json_response/202310259483_1.json: GT-2450AWX\n",
            "json_response/202310249478_1.json: N216\n",
            "json_response/202310259485_1.json: GT-1653SAWX-T\n",
            "json_response/202310249479_1.json: AD-241RFA-JL\n",
            "json_response/202310249480_1.json: VK2400SAW\n",
            "json_response/202310259488_1.json: GT-2022SAWX\n",
            "json_response/202310259486_1.json: GT-2027SANX\n",
            "json_response/202309178652_1.json: FT4201AFS1AW3QU\n",
            "json_response/202309158629_0.json: GT-164SAWS-TA\n",
            "json_response/202309158626_1.json: A2400SAW\n",
            "json_response/202309158622_1.json: V2015SFFUA-E\n",
            "json_response/202309168634_1.json: V2400AU-1\n",
            "json_response/202309178650_1.json: A2003SA\n",
            "json_response/202309178648_1.json: V2001SA\n",
            "json_response/202309168645_1.json: GTH-2427SAWXD\n",
            "json_response/202309158623_1.json: GT-2050SAWX\n",
            "json_response/202309158624_1.json: V2403SAU2\n",
            "json_response/202309158625_1.json: GT-2450SAWX\n",
            "json_response/202309158627_1.json: YGV2468R3H\n",
            "json_response/202309158630_1.json: GFK-2014A\n",
            "json_response/202309168632_1.json: T200\n",
            "json_response/202309168633_1.json: GT-2012SAWX-T\n",
            "json_response/202309168637_1.json: K2400AU2\n",
            "json_response/202309168638_1.json:該当する文字列は見つかりませんでした。\n",
            "json_response/202309168639_1.json: GT-2023SAW\n",
            "json_response/202309168641_1.json: GT-2428AWX\n",
            "json_response/202309168643_1.json: E2402AW2\n",
            "json_response/202309168644_1.json: N052A\n",
            "json_response/202309168647_1.json: N050A\n",
            "json_response/202309178649_1.json: OTSJL5-1\n",
            "json_response/202309178651_1.json: FT-368RSA-AW6Q\n",
            "json_response/202310109101_1.json: E2401SAU\n",
            "json_response/202310109102_1.json: GT-2050SAWX-T\n",
            "json_response/202310109106_1.json: G405W\n",
            "json_response/202310109109_1.json: GT-2022SAWX-FF\n",
            "json_response/202310109110_1.json: FT-368RSA-SW6Q\n",
            "json_response/202310109112_1.json: A2400SAW\n",
            "json_response/202310109114_1.json: GT-2027SAWX\n",
            "json_response/202310099099_2.json: GT-2427SARX\n",
            "json_response/202310109100_1.json: C08ARS-AWQ\n",
            "json_response/202310109103_1.json: SP207SZU-1R\n",
            "json_response/202310109104_1.json: GT-2450SARX\n",
            "json_response/202310109105_1.json: GT-2028SAWX\n",
            "json_response/202310109107_1.json: GQ-1623WE\n",
            "json_response/202310109108_1.json: GT-1628SARX\n",
            "json_response/202310109111_1.json: R244D-L5\n",
            "json_response/202310109113_1.json: GQ-1637WE\n",
            "json_response/202309128586_1.json: GT-2428SAWX-T\n",
            "json_response/202309128587_1.json: VS1615SAT\n",
            "json_response/202309128588_1.json: V2400AW2\n",
            "0.982725527831094\n"
          ]
        }
      ]
    },
    {
      "cell_type": "code",
      "source": [
        "0.982725527831094*521\n"
      ],
      "metadata": {
        "colab": {
          "base_uri": "https://localhost:8080/"
        },
        "id": "N8ReFsKK3ba3",
        "outputId": "9d59951c-8382-4bfd-f9c5-e0fc18980998"
      },
      "execution_count": 90,
      "outputs": [
        {
          "output_type": "execute_result",
          "data": {
            "text/plain": [
              "512.0"
            ]
          },
          "metadata": {},
          "execution_count": 90
        }
      ]
    }
  ]
}