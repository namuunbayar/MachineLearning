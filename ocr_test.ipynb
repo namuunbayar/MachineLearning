{
  "cells": [
    {
      "cell_type": "markdown",
      "metadata": {
        "id": "view-in-github",
        "colab_type": "text"
      },
      "source": [
        "<a href=\"https://colab.research.google.com/github/namuunbayar/MachineLearning/blob/main/ocr_test.ipynb\" target=\"_parent\"><img src=\"https://colab.research.google.com/assets/colab-badge.svg\" alt=\"Open In Colab\"/></a>"
      ]
    },
    {
      "cell_type": "code",
      "execution_count": 5,
      "metadata": {
        "id": "GaSSswhwmWZ8"
      },
      "outputs": [],
      "source": [
        "import os\n",
        "import sys\n",
        "import pandas as pd\n",
        "import numpy as np\n",
        "import cv2\n",
        "import io\n",
        "import re\n",
        "import base64\n",
        "from google.cloud import vision\n",
        "import json\n",
        "from django.utils import timezone\n",
        "import pathlib\n",
        "from google.cloud.vision import AnnotateImageResponse\n",
        "import argparse\n",
        "from enum import Enum\n",
        "from PIL import Image, ImageDraw\n",
        "from operator import itemgetter\n",
        "\n",
        "os.environ['GOOGLE_APPLICATION_CREDENTIALS'] =\"./gas-meter-ocr-356007-981ec8805f98.json\""
      ]
    },
    {
      "cell_type": "code",
      "source": [
        "!pip install google-cloud-vision\n",
        "!pip install django"
      ],
      "metadata": {
        "colab": {
          "base_uri": "https://localhost:8080/"
        },
        "id": "BmwCqg_Onq6R",
        "outputId": "4c9b9705-0d7d-4bd2-fa63-fe2fca9d8184"
      },
      "execution_count": 4,
      "outputs": [
        {
          "output_type": "stream",
          "name": "stdout",
          "text": [
            "Requirement already satisfied: google-cloud-vision in /usr/local/lib/python3.10/dist-packages (3.4.5)\n",
            "Requirement already satisfied: google-api-core[grpc]!=2.0.*,!=2.1.*,!=2.10.*,!=2.2.*,!=2.3.*,!=2.4.*,!=2.5.*,!=2.6.*,!=2.7.*,!=2.8.*,!=2.9.*,<3.0.0dev,>=1.34.0 in /usr/local/lib/python3.10/dist-packages (from google-cloud-vision) (2.11.1)\n",
            "Requirement already satisfied: proto-plus<2.0.0dev,>=1.22.0 in /usr/local/lib/python3.10/dist-packages (from google-cloud-vision) (1.22.3)\n",
            "Requirement already satisfied: protobuf!=3.20.0,!=3.20.1,!=4.21.0,!=4.21.1,!=4.21.2,!=4.21.3,!=4.21.4,!=4.21.5,<5.0.0dev,>=3.19.5 in /usr/local/lib/python3.10/dist-packages (from google-cloud-vision) (3.20.3)\n",
            "Requirement already satisfied: googleapis-common-protos<2.0.dev0,>=1.56.2 in /usr/local/lib/python3.10/dist-packages (from google-api-core[grpc]!=2.0.*,!=2.1.*,!=2.10.*,!=2.2.*,!=2.3.*,!=2.4.*,!=2.5.*,!=2.6.*,!=2.7.*,!=2.8.*,!=2.9.*,<3.0.0dev,>=1.34.0->google-cloud-vision) (1.61.0)\n",
            "Requirement already satisfied: google-auth<3.0.dev0,>=2.14.1 in /usr/local/lib/python3.10/dist-packages (from google-api-core[grpc]!=2.0.*,!=2.1.*,!=2.10.*,!=2.2.*,!=2.3.*,!=2.4.*,!=2.5.*,!=2.6.*,!=2.7.*,!=2.8.*,!=2.9.*,<3.0.0dev,>=1.34.0->google-cloud-vision) (2.17.3)\n",
            "Requirement already satisfied: requests<3.0.0.dev0,>=2.18.0 in /usr/local/lib/python3.10/dist-packages (from google-api-core[grpc]!=2.0.*,!=2.1.*,!=2.10.*,!=2.2.*,!=2.3.*,!=2.4.*,!=2.5.*,!=2.6.*,!=2.7.*,!=2.8.*,!=2.9.*,<3.0.0dev,>=1.34.0->google-cloud-vision) (2.31.0)\n",
            "Requirement already satisfied: grpcio<2.0dev,>=1.33.2 in /usr/local/lib/python3.10/dist-packages (from google-api-core[grpc]!=2.0.*,!=2.1.*,!=2.10.*,!=2.2.*,!=2.3.*,!=2.4.*,!=2.5.*,!=2.6.*,!=2.7.*,!=2.8.*,!=2.9.*,<3.0.0dev,>=1.34.0->google-cloud-vision) (1.59.2)\n",
            "Requirement already satisfied: grpcio-status<2.0.dev0,>=1.33.2 in /usr/local/lib/python3.10/dist-packages (from google-api-core[grpc]!=2.0.*,!=2.1.*,!=2.10.*,!=2.2.*,!=2.3.*,!=2.4.*,!=2.5.*,!=2.6.*,!=2.7.*,!=2.8.*,!=2.9.*,<3.0.0dev,>=1.34.0->google-cloud-vision) (1.48.2)\n",
            "Requirement already satisfied: cachetools<6.0,>=2.0.0 in /usr/local/lib/python3.10/dist-packages (from google-auth<3.0.dev0,>=2.14.1->google-api-core[grpc]!=2.0.*,!=2.1.*,!=2.10.*,!=2.2.*,!=2.3.*,!=2.4.*,!=2.5.*,!=2.6.*,!=2.7.*,!=2.8.*,!=2.9.*,<3.0.0dev,>=1.34.0->google-cloud-vision) (5.3.2)\n",
            "Requirement already satisfied: pyasn1-modules>=0.2.1 in /usr/local/lib/python3.10/dist-packages (from google-auth<3.0.dev0,>=2.14.1->google-api-core[grpc]!=2.0.*,!=2.1.*,!=2.10.*,!=2.2.*,!=2.3.*,!=2.4.*,!=2.5.*,!=2.6.*,!=2.7.*,!=2.8.*,!=2.9.*,<3.0.0dev,>=1.34.0->google-cloud-vision) (0.3.0)\n",
            "Requirement already satisfied: six>=1.9.0 in /usr/local/lib/python3.10/dist-packages (from google-auth<3.0.dev0,>=2.14.1->google-api-core[grpc]!=2.0.*,!=2.1.*,!=2.10.*,!=2.2.*,!=2.3.*,!=2.4.*,!=2.5.*,!=2.6.*,!=2.7.*,!=2.8.*,!=2.9.*,<3.0.0dev,>=1.34.0->google-cloud-vision) (1.16.0)\n",
            "Requirement already satisfied: rsa<5,>=3.1.4 in /usr/local/lib/python3.10/dist-packages (from google-auth<3.0.dev0,>=2.14.1->google-api-core[grpc]!=2.0.*,!=2.1.*,!=2.10.*,!=2.2.*,!=2.3.*,!=2.4.*,!=2.5.*,!=2.6.*,!=2.7.*,!=2.8.*,!=2.9.*,<3.0.0dev,>=1.34.0->google-cloud-vision) (4.9)\n",
            "Requirement already satisfied: charset-normalizer<4,>=2 in /usr/local/lib/python3.10/dist-packages (from requests<3.0.0.dev0,>=2.18.0->google-api-core[grpc]!=2.0.*,!=2.1.*,!=2.10.*,!=2.2.*,!=2.3.*,!=2.4.*,!=2.5.*,!=2.6.*,!=2.7.*,!=2.8.*,!=2.9.*,<3.0.0dev,>=1.34.0->google-cloud-vision) (3.3.2)\n",
            "Requirement already satisfied: idna<4,>=2.5 in /usr/local/lib/python3.10/dist-packages (from requests<3.0.0.dev0,>=2.18.0->google-api-core[grpc]!=2.0.*,!=2.1.*,!=2.10.*,!=2.2.*,!=2.3.*,!=2.4.*,!=2.5.*,!=2.6.*,!=2.7.*,!=2.8.*,!=2.9.*,<3.0.0dev,>=1.34.0->google-cloud-vision) (3.4)\n",
            "Requirement already satisfied: urllib3<3,>=1.21.1 in /usr/local/lib/python3.10/dist-packages (from requests<3.0.0.dev0,>=2.18.0->google-api-core[grpc]!=2.0.*,!=2.1.*,!=2.10.*,!=2.2.*,!=2.3.*,!=2.4.*,!=2.5.*,!=2.6.*,!=2.7.*,!=2.8.*,!=2.9.*,<3.0.0dev,>=1.34.0->google-cloud-vision) (2.0.7)\n",
            "Requirement already satisfied: certifi>=2017.4.17 in /usr/local/lib/python3.10/dist-packages (from requests<3.0.0.dev0,>=2.18.0->google-api-core[grpc]!=2.0.*,!=2.1.*,!=2.10.*,!=2.2.*,!=2.3.*,!=2.4.*,!=2.5.*,!=2.6.*,!=2.7.*,!=2.8.*,!=2.9.*,<3.0.0dev,>=1.34.0->google-cloud-vision) (2023.7.22)\n",
            "Requirement already satisfied: pyasn1<0.6.0,>=0.4.6 in /usr/local/lib/python3.10/dist-packages (from pyasn1-modules>=0.2.1->google-auth<3.0.dev0,>=2.14.1->google-api-core[grpc]!=2.0.*,!=2.1.*,!=2.10.*,!=2.2.*,!=2.3.*,!=2.4.*,!=2.5.*,!=2.6.*,!=2.7.*,!=2.8.*,!=2.9.*,<3.0.0dev,>=1.34.0->google-cloud-vision) (0.5.0)\n",
            "Collecting django\n",
            "  Downloading Django-4.2.7-py3-none-any.whl (8.0 MB)\n",
            "\u001b[2K     \u001b[90m━━━━━━━━━━━━━━━━━━━━━━━━━━━━━━━━━━━━━━━━\u001b[0m \u001b[32m8.0/8.0 MB\u001b[0m \u001b[31m41.4 MB/s\u001b[0m eta \u001b[36m0:00:00\u001b[0m\n",
            "\u001b[?25hCollecting asgiref<4,>=3.6.0 (from django)\n",
            "  Downloading asgiref-3.7.2-py3-none-any.whl (24 kB)\n",
            "Requirement already satisfied: sqlparse>=0.3.1 in /usr/local/lib/python3.10/dist-packages (from django) (0.4.4)\n",
            "Requirement already satisfied: typing-extensions>=4 in /usr/local/lib/python3.10/dist-packages (from asgiref<4,>=3.6.0->django) (4.5.0)\n",
            "Installing collected packages: asgiref, django\n",
            "Successfully installed asgiref-3.7.2 django-4.2.7\n"
          ]
        }
      ]
    },
    {
      "cell_type": "code",
      "execution_count": 6,
      "metadata": {
        "id": "wXEJbepNmWaB"
      },
      "outputs": [],
      "source": [
        "# responseをjsonで保存\n",
        "def save_as_json(response, filename):\n",
        "    data = AnnotateImageResponse.to_json(response)\n",
        "    with open(filename, mode='wt', encoding='utf-8') as file:\n",
        "        json.dump(data, file, ensure_ascii=False, indent=2)\n",
        "\n",
        "# jsonをAnnotateImageResponse形式で読み出し\n",
        "def load_from_json(filename):\n",
        "    with open(filename, mode='r', encoding='utf-8') as file:\n",
        "        temp = json.load(file)\n",
        "    response = AnnotateImageResponse.from_json(temp)\n",
        "    return response"
      ]
    },
    {
      "cell_type": "code",
      "execution_count": 7,
      "metadata": {
        "id": "_VSG37BEmWaQ"
      },
      "outputs": [],
      "source": [
        "#Vision APIを呼び出しjsonで保存\n",
        "def get_resp(file_path, output_dir = 'output/', hint='ja'):\n",
        "    # Instantiates a client\n",
        "    client = vision.ImageAnnotatorClient()\n",
        "\n",
        "    # The name of the image file to annotate\n",
        "    file_name = os.path.abspath(file_path)\n",
        "\n",
        "    # Loads the image into memory\n",
        "    with io.open(file_name, 'rb') as image_file:\n",
        "        content = image_file.read()\n",
        "\n",
        "    image = vision.Image(content=content)\n",
        "\n",
        "    # Performs label detection on the image file\n",
        "    response =  client.document_text_detection(\n",
        "            image=image,\n",
        "            image_context={'language_hints': [hint]}\n",
        "        )\n",
        "\n",
        "    jst_now = timezone.datetime.now()\n",
        "    resp_file = output_dir\n",
        "    basename = os.path.splitext(os.path.basename(file_path))[0]\n",
        "    #now = jst_now.strftime('%Y_%m%d_%H%M%S')\n",
        "    now = jst_now.strftime('_%Y%m%d')\n",
        "    resp_file = resp_file + basename + now + '.json'\n",
        "\n",
        "    save_as_json(response, resp_file)\n",
        "\n",
        "    return response"
      ]
    },
    {
      "cell_type": "code",
      "execution_count": 8,
      "metadata": {
        "id": "F8JttzxbmWaR"
      },
      "outputs": [],
      "source": [
        "#Vision APIを呼び出しjsonで保存\n",
        "def get_resp_text_detection(file_path, output_dir = 'output/'):\n",
        "    # Instantiates a client\n",
        "    client = vision.ImageAnnotatorClient()\n",
        "\n",
        "    # The name of the image file to annotate\n",
        "    file_name = os.path.abspath(file_path)\n",
        "\n",
        "    # Loads the image into memory\n",
        "    with io.open(file_name, 'rb') as image_file:\n",
        "        content = image_file.read()\n",
        "\n",
        "    image = vision.Image(content=content)\n",
        "\n",
        "    # Performs label detection on the image file\n",
        "    response =  client.text_detection(\n",
        "            image=image,\n",
        "            image_context={'language_hints': ['ja']}\n",
        "        )\n",
        "\n",
        "    jst_now = timezone.datetime.now()\n",
        "    resp_file = output_dir\n",
        "    basename = os.path.splitext(os.path.basename(file_path))[0]\n",
        "    #now = jst_now.strftime('%Y_%m%d_%H%M%S')\n",
        "    now = jst_now.strftime('_%Y%m%d')\n",
        "    resp_file = resp_file + basename + now + '.json'\n",
        "\n",
        "    save_as_json(response, resp_file)\n",
        "\n",
        "    return response"
      ]
    },
    {
      "cell_type": "code",
      "execution_count": 9,
      "metadata": {
        "id": "wbuWIzYqmWaT"
      },
      "outputs": [],
      "source": [
        "def draw_boxes(image, texts, color):\n",
        "    draw = ImageDraw.Draw(image)\n",
        "\n",
        "    for text in texts:\n",
        "        draw.polygon(\n",
        "            [\n",
        "                text[\"bounding_box\"].vertices[0].x,\n",
        "                text[\"bounding_box\"].vertices[0].y,\n",
        "                text[\"bounding_box\"].vertices[1].x,\n",
        "                text[\"bounding_box\"].vertices[1].y,\n",
        "                text[\"bounding_box\"].vertices[2].x,\n",
        "                text[\"bounding_box\"].vertices[2].y,\n",
        "                text[\"bounding_box\"].vertices[3].x,\n",
        "                text[\"bounding_box\"].vertices[3].y,\n",
        "            ],\n",
        "            None,\n",
        "            color,\n",
        "        )\n",
        "    return image"
      ]
    },
    {
      "cell_type": "code",
      "execution_count": 10,
      "metadata": {
        "id": "EUOli9xdmWaU"
      },
      "outputs": [],
      "source": [
        "# 文章+座標インスタンスのリストから「pattern」で文章検索\n",
        "def find_text(texts, pattern):\n",
        "    results = []\n",
        "\n",
        "    for text in texts:\n",
        "        res = re.findall(pattern, text[\"text\"],flags=re.MULTILINE)\n",
        "        if(res):\n",
        "            # text[\"text\"]=res[0]\n",
        "            # results.append(text)\n",
        "            results.append({'text':res[0],'bounding_box':text[\"bounding_box\"]})\n",
        "\n",
        "    return results"
      ]
    },
    {
      "cell_type": "code",
      "execution_count": 11,
      "metadata": {
        "id": "ndy0FXOHmWaV"
      },
      "outputs": [],
      "source": [
        "# 2つの矩形Boxインスタンス間の距離を計算\n",
        "def calculate_distance(bound_1, bound_2):\n",
        "    return (bound_1.vertices[0].x-bound_2.vertices[0].x)**2 + (bound_1.vertices[0].y-bound_2.vertices[0].y)**2"
      ]
    },
    {
      "cell_type": "code",
      "execution_count": 12,
      "metadata": {
        "id": "EYiwG93MmWaW"
      },
      "outputs": [],
      "source": [
        "# search\n",
        "def search_with_key(texts, key, pattern):\n",
        "    results = []\n",
        "    keys = find_text(texts, key)\n",
        "    candidates = find_text(texts, pattern)\n",
        "    if(keys):\n",
        "        for cand in candidates:\n",
        "            cand[\"distance\"] = calculate_distance(cand[\"bounding_box\"],keys[0][\"bounding_box\"])\n",
        "\n",
        "        # candidates = sorted(candidates, key=itemgetter(\"distance\"))\n",
        "\n",
        "    else:\n",
        "        for cand in candidates:\n",
        "            if cand[\"text\"].isalpha() or cand[\"text\"].isdecimal():\n",
        "                cand[\"distance\"] = 99999999\n",
        "            else:\n",
        "                cand[\"distance\"] = -1\n",
        "\n",
        "    candidates = sorted(candidates, key=itemgetter(\"distance\"))\n",
        "\n",
        "    return candidates"
      ]
    },
    {
      "cell_type": "code",
      "execution_count": 13,
      "metadata": {
        "id": "i7CNacMKmWaX"
      },
      "outputs": [],
      "source": [
        "# APIレスポンスから文章単位のテキストと座標のリストを取得\n",
        "# {'text':'文章','bounding_box':矩形の頂点座標}\n",
        "def get_paragraph_texts(response):\n",
        "    \"\"\"Returns document bounds given an response.\"\"\"\n",
        "    paragraph_texts = []\n",
        "    document = response.full_text_annotation\n",
        "\n",
        "    # paragraph(文章)単位まで分割\n",
        "    for page in document.pages:\n",
        "        for block in page.blocks:\n",
        "            for paragraph in block.paragraphs:\n",
        "                paragraph_text = ''\n",
        "                for word in paragraph.words:\n",
        "                    word_text = ''.join([symbol.text for symbol in word.symbols])\n",
        "                    paragraph_text += word_text\n",
        "                paragraph_texts.append({'text':paragraph_text,'bounding_box':paragraph.bounding_box})\n",
        "\n",
        "    return paragraph_texts"
      ]
    },
    {
      "cell_type": "code",
      "execution_count": 14,
      "metadata": {
        "id": "CY3MJ1RSmWaY"
      },
      "outputs": [],
      "source": [
        "def read_value(response):\n",
        "    value = '0000'\n",
        "    text = response.text_annotations[0].description\n",
        "    text = text.replace('Ο','0').replace('O','0').replace('E0','').replace('I','1')\n",
        "\n",
        "    new_text = re.sub(r\"[^0-9]\",\"\", text)\n",
        "\n",
        "    if(len(new_text) > 0):\n",
        "        value = new_text[-4:]\n",
        "    return value"
      ]
    },
    {
      "cell_type": "markdown",
      "metadata": {
        "id": "6x28ZOYqmWaZ"
      },
      "source": [
        "### 実験"
      ]
    },
    {
      "cell_type": "code",
      "execution_count": 15,
      "metadata": {
        "id": "jQOgFjopmWac"
      },
      "outputs": [],
      "source": [
        "data_dir = '0222_bushu_train_responses/'\n",
        "json_list = list(pathlib.Path(data_dir).glob('**/*.json'))"
      ]
    },
    {
      "cell_type": "code",
      "execution_count": 16,
      "metadata": {
        "id": "wZ9uQaprmWcW"
      },
      "outputs": [],
      "source": [
        "crop_dir = 'crop_out/'\n",
        "cropped_list = list(pathlib.Path(crop_dir).glob('**/*.json'))"
      ]
    },
    {
      "cell_type": "code",
      "execution_count": 17,
      "metadata": {
        "colab": {
          "base_uri": "https://localhost:8080/"
        },
        "id": "t0_1mE-3mWcX",
        "outputId": "dd2b1e86-ddb5-4868-b395-f1d04a8e9b0e"
      },
      "outputs": [
        {
          "output_type": "stream",
          "name": "stdout",
          "text": [
            "===============================\n"
          ]
        }
      ],
      "source": [
        "# paragraphごとに分割して出力\n",
        "print(\"===============================\")\n",
        "for j in json_list:\n",
        "    resp = load_from_json(j)\n",
        "    para_texts = get_paragraph_texts(resp)\n",
        "\n",
        "    name = str(j).split('\\\\')\n",
        "\n",
        "    print(\"=====\"+ name[1] +\"=====\")\n",
        "    print(\"===============================\")\n",
        "\n",
        "    for paragraph in para_texts:\n",
        "        print(paragraph[\"text\"])\n",
        "\n",
        "    print(\"===============================\")"
      ]
    },
    {
      "cell_type": "code",
      "execution_count": 18,
      "metadata": {
        "colab": {
          "base_uri": "https://localhost:8080/"
        },
        "id": "5DVrqTP-mWcZ",
        "outputId": "d304bd03-82dc-4b81-f0fb-52795d6e8ea1"
      },
      "outputs": [
        {
          "output_type": "stream",
          "name": "stdout",
          "text": [
            "0 0 0O 0\n"
          ]
        }
      ],
      "source": [
        "tex = 'Ο Ο ΟO Ο'\n",
        "tmp = tex.replace('Ο','0')\n",
        "print(tmp)"
      ]
    },
    {
      "cell_type": "code",
      "execution_count": 19,
      "metadata": {
        "colab": {
          "base_uri": "https://localhost:8080/"
        },
        "id": "8RNLn5xRmWca",
        "outputId": "76bb8125-f87f-49d4-f535-7c85037e7c2e"
      },
      "outputs": [
        {
          "output_type": "stream",
          "name": "stdout",
          "text": [
            "===============================\n"
          ]
        }
      ],
      "source": [
        "# text全体を出力\n",
        "print(\"===============================\")\n",
        "for j in cropped_list:\n",
        "    resp = load_from_json(j)\n",
        "    # para_texts = get_paragraph_texts(resp)\n",
        "\n",
        "    name = str(j).split('\\\\')\n",
        "    nm = name[1].replace('.json','').replace('2023','').replace('crop_out_','')\n",
        "\n",
        "    print(\"=====\"+ nm +\"=====\")\n",
        "    print(\"===============================\")\n",
        "\n",
        "    print(resp.text_annotations[0].description)\n",
        "    print('↓↓↓↓')\n",
        "    read_value(resp)\n",
        "\n",
        "    print(\"===============================\")"
      ]
    },
    {
      "cell_type": "code",
      "execution_count": 20,
      "metadata": {
        "id": "hiQUlQ1LmWcd"
      },
      "outputs": [],
      "source": [
        "input_dir = '0222_bushu_train_images'\n",
        "image_list = list(pathlib.Path(input_dir).glob('**/*.jpg'))"
      ]
    },
    {
      "cell_type": "code",
      "execution_count": 21,
      "metadata": {
        "id": "_LSTSFtumWce"
      },
      "outputs": [],
      "source": [
        "crop_in = 'crop_in'\n",
        "crop_list = list(pathlib.Path(crop_in).glob('**/*.jpg'))"
      ]
    },
    {
      "cell_type": "code",
      "execution_count": 22,
      "metadata": {
        "id": "J2KvOLxwmWcf"
      },
      "outputs": [],
      "source": [
        "for i,c in enumerate(crop_list):\n",
        "    img = cv2.imread(str(c))\n",
        "\n",
        "    # BGRからYCrCb色空間に変換\n",
        "    img_ycrcb = cv2.cvtColor(img, cv2.COLOR_BGR2YCrCb)\n",
        "\n",
        "    # Yチャンネルの範囲を0~255に正規化\n",
        "    y, cr, cb = cv2.split(img_ycrcb)\n",
        "    y_norm = cv2.normalize(y, None, 0, 255, cv2.NORM_MINMAX)\n",
        "\n",
        "    # 正規化されたYチャンネルを元の画像に戻す\n",
        "    img_norm = cv2.merge((y_norm, cr, cb))\n",
        "    img_norm_bgr = cv2.cvtColor(img_norm, cv2.COLOR_YCrCb2BGR)\n",
        "\n",
        "    # 変換後の画像を保存\n",
        "    cv2.imwrite('output_image.jpg', img_norm_bgr)"
      ]
    },
    {
      "cell_type": "code",
      "execution_count": 23,
      "metadata": {
        "id": "s7iAkIlOmWch"
      },
      "outputs": [],
      "source": [
        "# APIに通し結果を格納\n",
        "# for image in image_list:\n",
        "#     get_resp(image)"
      ]
    },
    {
      "cell_type": "code",
      "execution_count": 24,
      "metadata": {
        "id": "Apb9cVwkmWcj"
      },
      "outputs": [],
      "source": [
        "# # APIに通し結果を格納\n",
        "for image in crop_list:\n",
        "    get_resp(image,'crop_out','en-digits')"
      ]
    },
    {
      "cell_type": "code",
      "execution_count": null,
      "metadata": {
        "scrolled": false,
        "id": "xQ2b5Vb3mWcl"
      },
      "outputs": [],
      "source": [
        "output_dir = '0222_bushu_train_responses/'\n",
        "json_list = list(pathlib.Path(output_dir).glob('**/*.json'))"
      ]
    },
    {
      "cell_type": "code",
      "execution_count": null,
      "metadata": {
        "id": "1Y5o-BMZmWcn"
      },
      "outputs": [],
      "source": [
        "sample_resp = load_from_json(json_list[0])"
      ]
    },
    {
      "cell_type": "code",
      "execution_count": null,
      "metadata": {
        "id": "tA_WWWJxmWco"
      },
      "outputs": [],
      "source": [
        "# sample_resp"
      ]
    },
    {
      "cell_type": "code",
      "execution_count": null,
      "metadata": {
        "id": "n3AUb9e8mWcp"
      },
      "outputs": [],
      "source": [
        "texts = sample_resp.text_annotations\n",
        "print('Texts:')\n",
        "\n",
        "for text in texts:\n",
        "    print('\\n\"{}\"'.format(text.description))\n",
        "\n",
        "    vertices = (['({},{})'.format(vertex.x, vertex.y)\n",
        "                for vertex in text.bounding_poly.vertices])\n",
        "\n",
        "    print('bounds: {}'.format(','.join(vertices)))"
      ]
    },
    {
      "cell_type": "code",
      "execution_count": null,
      "metadata": {
        "id": "wNBsrDdmmWcq"
      },
      "outputs": [],
      "source": [
        "from ultralytics import YOLO\n",
        "\n",
        "model = YOLO(\"best.pt\")"
      ]
    },
    {
      "cell_type": "code",
      "execution_count": null,
      "metadata": {
        "id": "ZelRk3GUmWcs"
      },
      "outputs": [],
      "source": [
        "results = model('bushu_train')"
      ]
    },
    {
      "cell_type": "code",
      "execution_count": null,
      "metadata": {
        "id": "4CSUYhTymWct"
      },
      "outputs": [],
      "source": [
        "for result in results:\n",
        "    # print(result.path)\n",
        "    base_name = str(result.path).split('\\\\')[-1].split('.')[0]\n",
        "    img = cv2.imread(result.path)\n",
        "    boxes = result.boxes.xyxy.to('cpu').numpy().astype(int)\n",
        "    confidences = result.boxes.conf.to('cpu').numpy().astype(float)\n",
        "    labels = result.boxes.cls.to('cpu').numpy().astype(int)\n",
        "\n",
        "    for box, conf, label in zip(boxes, confidences, labels):\n",
        "        if label == 2:\n",
        "            x_min, y_min, x_max, y_max = box\n",
        "            img_crop = img[y_min:y_max, x_min:x_max]\n",
        "            cv2.imwrite('crop_in/' + base_name +str(round(conf*100,2))+ '.jpg', img_crop)\n"
      ]
    },
    {
      "cell_type": "code",
      "execution_count": null,
      "metadata": {
        "id": "S7svJP1umWcv"
      },
      "outputs": [],
      "source": [
        "class Meter:\n",
        "    bushu_num = ['[0-9]{2}-[0-9]{3}-[0-9]{3}', '^[0-9]{2}[.・:-]*[0-9]{3}[.・:-]*[0-9]{3}$','^[0-9]{1,2}[.・:-]*[0-9]{2,3}[.・:-]*[0-9]{2,3}$']\n",
        "    bushu_model = ['[NJ][ ]*[B8][ ]*[0-9][.-。・:][0-9]','[NJ][ ]*[B8][ ]*[0-9]{1,2}','[NJ][ ]*D[ ]*[SB8][ ]*[0-9]{1,2}']\n",
        "    rgx_exp_date = ['(20[1-3][0-9][ ]{0,2}[.・ー年 -][ ]{0,2}((10)|(11)|(12)|[1-9]|0[1-9]))','([1-3][0-9][.年]((10)|(11)|(12)|[1-9]|0[1-9]))', '([1-3][0-9][・ー-]((10)|(11)|(12)|[1-9]|0[1-9]))']\n",
        "    rgx_pointer_val = '[0-9 ]{4,}'\n",
        "\n",
        "    def __init__(self, text):\n",
        "        self.text = text\n",
        "        self.pointer_val = []\n",
        "        self.management_num = []\n",
        "        self.model_num = []\n",
        "        self.exp_date = []\n",
        "        self.pointer_val = []\n",
        "\n",
        "    def remove_space(self):\n",
        "        self.text = self.text.replace(' ','')\n",
        "\n",
        "    def get_management_num(self):\n",
        "        for num in self.bushu_num:\n",
        "            result = re.findall(num, self.text, flags=re.MULTILINE)\n",
        "            [self.management_num.append(res) for res in result if res not in self.management_num]\n",
        "\n",
        "    def get_model_num(self):\n",
        "        for num in self.bushu_model:\n",
        "            result = re.findall(num, self.text, flags=re.MULTILINE)\n",
        "            # [self.model_num.append(res.replace(' ', '')) for res in result if res not in self.model_num]\n",
        "            for res in result:\n",
        "                res_pref = res.replace(' ','')\n",
        "                if res_pref not in self.model_num:\n",
        "                    self.model_num.append(res_pref)\n",
        "\n",
        "    def get_exp_date(self):\n",
        "        for num in self.rgx_exp_date:\n",
        "            result = re.findall(num, self.text, flags=re.MULTILINE)\n",
        "            [self.exp_date.append(res) for res in result if res not in self.exp_date]\n",
        "\n",
        "    def get_value(self):\n",
        "        meter_cands = self.text.split()\n",
        "        meter_cands = re.findall(self.rgx_pointer_val, self.text, flags=re.MULTILINE)\n",
        "        meter_cands = [cand.split() for cand in meter_cands]\n",
        "        [[self.pointer_val.append(c) for c in cand if len(c)<=5 and len(c)>=4 and c not in self.pointer_val] for cand in meter_cands]"
      ]
    },
    {
      "cell_type": "code",
      "execution_count": null,
      "metadata": {
        "id": "bKRTcAEymWcx"
      },
      "outputs": [],
      "source": [
        "def read_meter(response):\n",
        "    meter_info = {'number':'', 'model':'', 'year':'', 'month':'', 'value':''}\n",
        "    # meter_info = {'number':'test', 'model':'NB6', 'year':'30', 'month':'12', 'value':'1024'}\n",
        "\n",
        "    text = response.text_annotations[0].description\n",
        "    meter_obj = Meter(text)\n",
        "    meter_obj.remove_space()\n",
        "    meter_obj.get_management_num()\n",
        "    if meter_obj.management_num != []:\n",
        "        meter_info[\"number\"] = meter_obj.management_num[0]\n",
        "\n",
        "    meter_obj.get_model_num()\n",
        "    if meter_obj.model_num != []:\n",
        "        meter_info[\"model\"] = meter_obj.model_num[0]\n",
        "\n",
        "    meter_obj.get_exp_date()\n",
        "    if meter_obj.exp_date != []:\n",
        "        expire = re.split('[.・ー年-]',meter_obj.exp_date[0][0])\n",
        "        meter_info[\"year\"] = expire[0]\n",
        "        if(len(expire) > 1):\n",
        "            meter_info[\"month\"] = expire[1]\n",
        "\n",
        "    return meter_info"
      ]
    },
    {
      "cell_type": "code",
      "execution_count": null,
      "metadata": {
        "id": "-3zjrqPqmWcz"
      },
      "outputs": [],
      "source": [
        "for j in json_list:\n",
        "    response = load_from_json(j)\n",
        "    meter_info = read_meter(response)\n",
        "\n",
        "    print(meter_info[\"month\"])"
      ]
    },
    {
      "cell_type": "code",
      "execution_count": null,
      "metadata": {
        "id": "W2xeVHZ7mWc0"
      },
      "outputs": [],
      "source": [
        "get_resp('crop_in/2023_0222_15292388.1.jpg','crop_out')"
      ]
    },
    {
      "cell_type": "code",
      "execution_count": null,
      "metadata": {
        "id": "RMclMM0JmWc0",
        "outputId": "2e4429ed-5acc-4ff0-9b77-2312277d2e46"
      },
      "outputs": [
        {
          "name": "stderr",
          "output_type": "stream",
          "text": [
            "Ultralytics YOLOv8.0.47  Python-3.10.5 torch-1.13.1+cpu CPU\n",
            "Model summary (fused): 168 layers, 3006233 parameters, 0 gradients, 8.1 GFLOPs\n",
            "\n",
            "image 1/1 C:\\Users\\aorgil\\Desktop\\meter_exchange\\test.png: 512x640 2 Meters, 2 Plates, 2 Values, 417.8ms\n",
            "Speed: 5.0ms preprocess, 417.8ms inference, 9.6ms postprocess per image at shape (1, 3, 640, 640)\n"
          ]
        }
      ],
      "source": [
        "image_path = 'test.png'\n",
        "\n",
        "model = YOLO(\"best.pt\")\n",
        "results = model(image_path)"
      ]
    },
    {
      "cell_type": "code",
      "execution_count": null,
      "metadata": {
        "id": "QwN-n3HTmWc2"
      },
      "outputs": [],
      "source": [
        "result = results[0]\n",
        "\n",
        "boxes = result.boxes.xyxy.to('cpu').numpy().astype(int)\n",
        "confidences = result.boxes.conf.to('cpu').numpy().astype(float)\n",
        "labels = result.boxes.cls.to('cpu').numpy().astype(int)\n",
        "\n",
        "# confidencesの降順でインデックスをソート\n",
        "sorted_indices = np.argsort(confidences)[::-1]\n",
        "\n",
        "# boxesとlabelsを並び替え\n",
        "boxes_sorted = boxes[sorted_indices]\n",
        "labels_sorted = labels[sorted_indices]\n",
        "confidences_sorted = confidences[sorted_indices]"
      ]
    },
    {
      "cell_type": "code",
      "execution_count": null,
      "metadata": {
        "id": "fboFFg0gmWc3",
        "outputId": "93bf7a2b-8843-453a-966b-a31b78852e54"
      },
      "outputs": [
        {
          "data": {
            "text/plain": [
              "array([    0.96159,     0.96019,     0.94777,     0.94315,     0.92057,     0.84678])"
            ]
          },
          "execution_count": 145,
          "metadata": {},
          "output_type": "execute_result"
        }
      ],
      "source": [
        "confidences_sorted"
      ]
    },
    {
      "cell_type": "code",
      "execution_count": null,
      "metadata": {
        "id": "EopnoraMmWc4"
      },
      "outputs": [],
      "source": [
        "# labels_sortedから指定したlabelに対応する要素のインデックスを取得\n",
        "target_indices = np.where(labels_sorted == 2)[0]\n",
        "\n",
        "# boxes_sortedから対応する要素を取得\n",
        "value_boxes = boxes_sorted[target_indices]\n",
        "\n",
        "target_indices = np.where(labels_sorted == 1)[0]\n",
        "plate_boxes = boxes_sorted[target_indices]"
      ]
    },
    {
      "cell_type": "code",
      "execution_count": null,
      "metadata": {
        "id": "QbuZn8R6mWc5",
        "outputId": "0bb9350a-e6ba-44e5-a5d8-ddd89ed59135"
      },
      "outputs": [
        {
          "name": "stdout",
          "output_type": "stream",
          "text": [
            "[[123 405 334 508]\n",
            " [552 430 822 560]]\n",
            "[[575 182 698 236]\n",
            " [142 167 234 210]]\n"
          ]
        }
      ],
      "source": [
        "print(plate_boxes)\n",
        "print(value_boxes)"
      ]
    },
    {
      "cell_type": "code",
      "execution_count": null,
      "metadata": {
        "id": "ASw-TV6nmWc6"
      },
      "outputs": [],
      "source": [
        "image = cv2.imread(image_path)\n",
        "for i, box in enumerate(value_boxes):\n",
        "    x_min, y_min, x_max, y_max = box\n",
        "    image_crop = image[y_min:y_max, x_min:x_max]\n",
        "    cv2.imwrite(\"value_\"+str(i)+\".jpg\",image_crop)"
      ]
    },
    {
      "cell_type": "code",
      "execution_count": null,
      "metadata": {
        "id": "7xoMuBVNmWc7",
        "outputId": "23ecf03a-f34d-4c53-e05f-ba0d9362f49c"
      },
      "outputs": [
        {
          "name": "stdout",
          "output_type": "stream",
          "text": [
            "0220_160224.jpg\n",
            "0220_160308.jpg\n",
            "0220_160409.jpg\n",
            "0220_160452.jpg\n",
            "0220_160532.jpg\n",
            "0220_161624.jpg\n",
            "0220_161911.jpg\n",
            "0220_164625.jpg\n",
            "0222_101709.jpg\n",
            "0222_101723.jpg\n",
            "0222_102009.jpg\n",
            "0222_140611.jpg\n",
            "0222_150525.jpg\n",
            "0222_150707.jpg\n",
            "0222_150824.jpg\n",
            "0222_150847.jpg\n",
            "0222_150926.jpg\n",
            "0222_151031.jpg\n",
            "0222_151120.jpg\n",
            "0222_151219.jpg\n",
            "0222_151243.jpg\n",
            "0222_151342.jpg\n",
            "0222_151414.jpg\n",
            "0222_151446.jpg\n",
            "0222_151514.jpg\n",
            "0222_151551.jpg\n",
            "0222_151619.jpg\n",
            "0222_151656.jpg\n",
            "0222_151810.jpg\n",
            "0222_151906.jpg\n",
            "0222_152004.jpg\n",
            "0222_152025.jpg\n",
            "0222_152108.jpg\n",
            "0222_152505.jpg\n",
            "0222_152522.jpg\n",
            "0222_152532.jpg\n",
            "0222_152611.jpg\n",
            "0222_152624.jpg\n",
            "0222_152647.jpg\n",
            "0222_152707.jpg\n",
            "0222_152724.jpg\n",
            "0222_152830.jpg\n",
            "0222_152923.jpg\n",
            "0222_153356.jpg\n",
            "0224_100033.jpg\n",
            "0226_114328.jpg\n",
            "0226_114458.jpg\n",
            "0227_094833.jpg\n",
            "0227_094857.jpg\n",
            "0227_095052.jpg\n"
          ]
        }
      ],
      "source": [
        "# まとめてrename\n",
        "import os\n",
        "\n",
        "folder_path = 'crop_in'  # フォルダのパス\n",
        "\n",
        "# フォルダ内の全ファイルに対してループを実行し、リネーム処理を行う\n",
        "for filename in os.listdir(folder_path):\n",
        "    # ファイル名に新しいサフィックスを追加\n",
        "    base = os.path.splitext(filename)[0].replace('2023_','')\n",
        "    base = base[:11]\n",
        "    new_filename = base + os.path.splitext(filename)[1]\n",
        "    print(new_filename)\n",
        "    # リネーム処理を実行\n",
        "    #os.rename(os.path.join(folder_path, filename), os.path.join(folder_path, new_filename))\n"
      ]
    }
  ],
  "metadata": {
    "kernelspec": {
      "display_name": "env",
      "language": "python",
      "name": "python3"
    },
    "language_info": {
      "codemirror_mode": {
        "name": "ipython",
        "version": 3
      },
      "file_extension": ".py",
      "mimetype": "text/x-python",
      "name": "python",
      "nbconvert_exporter": "python",
      "pygments_lexer": "ipython3",
      "version": "3.10.5"
    },
    "vscode": {
      "interpreter": {
        "hash": "085a6d1732c541f4e8e8ff7b7a1393ac564b35acdff07054d0b4730b36734db5"
      }
    },
    "colab": {
      "provenance": [],
      "include_colab_link": true
    }
  },
  "nbformat": 4,
  "nbformat_minor": 0
}